{
 "cells": [
  {
   "cell_type": "markdown",
   "metadata": {
    "pycharm": {
     "name": "#%% md\n"
    }
   },
   "source": [
    "<img src=\"img/decisionmaking.png\" width=400>\n",
    "\n",
    "# ELEC-E7851 - ELEC-E7890 - User Research\n",
    "# Lecture 10 - Modeling decision making\n",
    "\n",
    "**Aurélien Nioche**\n",
    "\n",
    "Aalto University"
   ]
  },
  {
   "cell_type": "markdown",
   "metadata": {},
   "source": [
    "## Preamble\n",
    "\n",
    "<!--\n",
    "<img src=\"img/netflix.png\" width=900>\n",
    "-->"
   ]
  },
  {
   "cell_type": "markdown",
   "metadata": {},
   "source": [
    "<div class=\"alert alert-block alert-success\">\n",
    "<h2><img src=\"img/logo/goal.png\" width=20, align=\"left\">&nbsp;Learning objectives</h2>\n",
    "    <br>Learn by a basic example the elementary rules of experimentation, including:\n",
    "    <ul>\n",
    "        <li>How to define a research problem (see <a href=\"#1.-Task-Model-&-Decision-Making-Models\" class=\"alert-link\">Section 1</a>);\n",
    "        <li>How to define hypothesis  (see <a href=\"#2.-Exploratory-Simulations\" class=\"alert-link\">Section 2</a>);\n",
    "        <li>How to operationalize these hypothesis (see <a href=\"#3.-Parameter-Fitting-&amp;-Parameter-Recovery\" class=\"alert-link\">Section 3</a>);\n",
    "        <li>How to design the study accordingly (see <a href=\"#4.-Model-Comparison-&amp;-Model-Recovery\" class=\"alert-link\">Section 4</a>).\n",
    "    </ul>\n",
    "</div>"
   ]
  },
  {
   "cell_type": "markdown",
   "metadata": {
    "pycharm": {
     "name": "#%%\n"
    }
   },
   "source": [
    "## Course Overview\n",
    "\n",
    "<!-- \n",
    "<img src=\"img/design.png\" width=30, align=\"left\">&nbsp;&nbsp;&nbsp;&nbsp;<span style=\"font-size:2rem; font-weight:bold\"><a href=\"#1.-Task-Model-&-Decision-Making-Models\">1. Task Model &amp; Decision Making Models</a></span>\n",
    "-->\n",
    "\n",
    "<a href=\"#1.1-Task-definition\">1.1 Task definition</a>\n",
    "\n",
    "<a href=\"#1.2-Models-definition\">1.2 Models definition</a>\n",
    "\n",
    "<span style=\"font-size:2rem; font-weight:bold\"><a href=\"#Conclusive-Remarks-and-a-Few-Take-Aways\">Conclusive Remarks and a Few Take Aways</a></span>\n",
    "\n",
    "<span style=\"font-size:2rem; font-weight:bold\"><a href=\"#Additional-material\">Additional material</a></span>"
   ]
  },
  {
   "cell_type": "markdown",
   "metadata": {},
   "source": [
    "## 1. Build an experiment\n",
    "<a href=\"#Course-Overview\">Course Overview</a>\n",
    "\n",
    "<img src=\"img/design.png\" width=300>\n",
    "\n",
    "<div class=\"alert alert-block alert-success\">\n",
    "<h3><img src=\"img/logo/goal.png\" width=20, align=\"left\">&nbsp;Section Goal</h3>\n",
    "<ul>\n",
    "    <li>How to build an experiment.\n",
    "    </ul>\n",
    "</div>"
   ]
  },
  {
   "cell_type": "markdown",
   "metadata": {},
   "source": [
    "### 1.1 Define a research problem\n",
    "<a href=\"#Course-Overview\">Course Overview</a>\n",
    "\n",
    "<div class=\"alert alert-block alert-info\">\n",
    "<h4><img src=\"img/logo/goal.png\" width=20, align=\"left\">&nbsp;Goal</h4>\n",
    "    <ul>\n",
    "        <li>Refine the question, such that you can answer it by an experiment.\n",
    "    </ul>\n",
    "</div>\n",
    "\n",
    "<img src=\"img/logo/how_to.png\" width=25, align=\"left\">&nbsp;**How to do it?**\n",
    "\n",
    "Let's take as example:"
   ]
  },
  {
   "cell_type": "markdown",
   "metadata": {},
   "source": [
    "<!-- <img src=\"img/illustration.jpeg\" width=700> -->"
   ]
  },
  {
   "cell_type": "markdown",
   "metadata": {},
   "source": [
    "<b>Task: <a href=\"https://en.wikipedia.org/wiki/Multi-armed_bandit\">Bandit task</a></b>"
   ]
  },
  {
   "cell_type": "code",
   "execution_count": null,
   "metadata": {
    "pycharm": {
     "name": "#%%\n"
    }
   },
   "outputs": [],
   "source": [
    "N = 2\n",
    "P = np.array([0.5, 0.75])\n",
    "T = 500\n",
    "\n",
    "N_SUBJECTS = 30"
   ]
  },
  {
   "cell_type": "markdown",
   "metadata": {},
   "source": [
    "\\begin{equation}\n",
    "\\forall i: p_{choice}(i) \\in [0, 1] \\wedge \\sum_{i}^N p_{choice}(i) = 1\n",
    "\\end{equation}"
   ]
  },
  {
   "cell_type": "markdown",
   "metadata": {},
   "source": [
    "*Note: For more info, see the <a href=\"#S1.-Behavior-visualization\">supplementary section</a>).*"
   ]
  },
  {
   "cell_type": "markdown",
   "metadata": {},
   "source": [
    " ---"
   ]
  },
  {
   "cell_type": "markdown",
   "metadata": {},
   "source": [
    "---"
   ]
  },
  {
   "cell_type": "markdown",
   "metadata": {},
   "source": [
    "<div class=\"alert alert-block alert-danger\">\n",
    "<h2><img src=\"img/logo/warning.png\" width=20, align=\"left\">&nbsp;Warning</h2>\n",
    "    <br>You should look to the <a href=\"#S2.-Parameter-space-exploration\" class=\"alert-link\">supplementary</a> for that.</div>"
   ]
  },
  {
   "cell_type": "markdown",
   "metadata": {},
   "source": [
    "---"
   ]
  },
  {
   "cell_type": "markdown",
   "metadata": {},
   "source": [
    "## Conclusive Remarks and a Few Take-Aways\n",
    "<a href=\"#Course-Overview\">Course Overview</a>\n",
    "\n",
    "<div class=\"alert alert-block alert-success\">\n",
    "<h2><img src=\"img/logo/goal.png\" width=20, align=\"left\">&nbsp;Learning objectives</h2>\n",
    "    <br>Learn by a basic example the elementary rules of decision making modeling, including:\n",
    "    <ul>\n",
    "        <li>How to ... (see <a href=\"#1.-Task-Model-&-Decision-Making-Models\" class=\"alert-link\">Section 1</a>);\n",
    "        <li>How to ...(see <a href=\"#2.-Exploratory-Simulations\" class=\"alert-link\">Section 2</a>);\n",
    "        <li>How to ...(see <a href=\"#3.-Parameter-Fitting-&amp;-Parameter-Recovery\" class=\"alert-link\">Section 3</a>);\n",
    "        <li>How to ... (see <a href=\"#4.-Model-Comparison-&amp;-Model-Recovery\" class=\"alert-link\">Section 4</a>);\n",
    "        <li>How to ... (see <a href=\"#5.-Artificial-Experiment\" class=\"alert-link\">Section 5</a>);\n",
    "    </ul>\n",
    "</div>\n"
   ]
  },
  {
   "cell_type": "markdown",
   "metadata": {},
   "source": [
    "## Additional material\n",
    "<a href=\"#Course-Overview\">Course Overview</a>"
   ]
  }
 ],
 "metadata": {
  "kernelspec": {
   "display_name": "Python 3",
   "language": "python",
   "name": "python3"
  },
  "language_info": {
   "codemirror_mode": {
    "name": "ipython",
    "version": 3
   },
   "file_extension": ".py",
   "mimetype": "text/x-python",
   "name": "python",
   "nbconvert_exporter": "python",
   "pygments_lexer": "ipython3",
   "version": "3.8.5"
  }
 },
 "nbformat": 4,
 "nbformat_minor": 1
}
